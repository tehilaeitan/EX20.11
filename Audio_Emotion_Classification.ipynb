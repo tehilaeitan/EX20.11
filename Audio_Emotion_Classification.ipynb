{
  "nbformat": 4,
  "nbformat_minor": 0,
  "metadata": {
    "colab": {
      "name": "Audio_Emotion_Classification.ipynb",
      "provenance": [],
      "collapsed_sections": [],
      "include_colab_link": true
    },
    "kernelspec": {
      "name": "python3",
      "display_name": "Python 3"
    },
    "language_info": {
      "name": "python"
    }
  },
  "cells": [
    {
      "cell_type": "markdown",
      "metadata": {
        "id": "view-in-github",
        "colab_type": "text"
      },
      "source": [
        "<a href=\"https://colab.research.google.com/github/tehilaeitan/EX20.11/blob/main/Audio_Emotion_Classification.ipynb\" target=\"_parent\"><img src=\"https://colab.research.google.com/assets/colab-badge.svg\" alt=\"Open In Colab\"/></a>"
      ]
    },
    {
      "cell_type": "code",
      "source": [
        "from google.colab import drive\n",
        "drive.mount('/content/drive')"
      ],
      "metadata": {
        "colab": {
          "base_uri": "https://localhost:8080/"
        },
        "id": "ECMpz1_ggK2g",
        "outputId": "790034ad-5683-46ee-8bbb-7b9ef57956f4"
      },
      "execution_count": 6,
      "outputs": [
        {
          "output_type": "stream",
          "name": "stdout",
          "text": [
            "Mounted at /content/drive\n"
          ]
        }
      ]
    },
    {
      "cell_type": "code",
      "source": [
        "import librosa\n",
        "import soundfile\n",
        "import os, glob, pickle\n",
        "import numpy as np\n",
        "import joblib\n",
        "from sklearn.model_selection import train_test_split\n",
        "from sklearn.metrics import accuracy_score\n",
        "from sklearn.metrics import classification_report\n",
        "from sklearn.metrics import confusion_matrix\n",
        "from sklearn.neural_network import MLPClassifier\n",
        "from sklearn.ensemble import RandomForestClassifier\n",
        "import seaborn as sns"
      ],
      "metadata": {
        "id": "qAgVmVvpubf2"
      },
      "execution_count": 7,
      "outputs": []
    },
    {
      "cell_type": "code",
      "source": [
        "def extract_feature(file_name, mfcc, chroma, mel):\n",
        "    with soundfile.SoundFile(file_name) as sound_file:\n",
        "        X = sound_file.read(dtype=\"float32\")\n",
        "  #sample_rate can improve generalization and lead to lower validation and test set errors. \n",
        "        sample_rate=sound_file.samplerate\n",
        "        if chroma:\n",
        "            stft=np.abs(librosa.stft(X))\n",
        "        result=np.array([])\n",
        "    #we will define a function to extract features \n",
        "        if mfcc:\n",
        "            mfccs=np.mean(librosa.feature.mfcc(y=X, sr=sample_rate, n_mfcc=40).T, axis=0)\n",
        "            result=np.hstack((result, mfccs))\n",
        "        if chroma:\n",
        "            chroma=np.mean(librosa.feature.chroma_stft(S=stft, sr=sample_rate).T,axis=0)\n",
        "            result=np.hstack((result, chroma))\n",
        "        if mel:\n",
        "            mel=np.mean(librosa.feature.melspectrogram(X, sr=sample_rate).T,axis=0)\n",
        "            result=np.hstack((result, mel))\n",
        "        return result"
      ],
      "metadata": {
        "id": "5JwBwXnrxxgF"
      },
      "execution_count": 8,
      "outputs": []
    },
    {
      "cell_type": "code",
      "source": [
        "#DataFlair - Emotions in the RAVDESS dataset\n",
        "emotions={\n",
        "  '01':'neutral',\n",
        "  '02':'calm',\n",
        "  '03':'happy',\n",
        "  '04':'sad',\n",
        "  '05':'angry',\n",
        "  '06':'fearful',\n",
        "  '07':'disgust',\n",
        "  '08':'surprised'\n",
        "}\n",
        "#DataFlair - Emotions to observe\n",
        "observed_emotions=['calm', 'happy', 'fearful', 'disgust']"
      ],
      "metadata": {
        "id": "UrFCsjrgyAN4"
      },
      "execution_count": 9,
      "outputs": []
    },
    {
      "cell_type": "code",
      "source": [
        "#DataFlair - Load the data and extract features for each sound file\n",
        "def load_data(test_size=0.2):\n",
        "    x,y=[],[]\n",
        "    #create our features and Label dataset.\n",
        "    for file in glob.glob(\"/content/drive/MyDrive/Colab Notebooks/sound_data/data/Actor_*/*.wav\"):\n",
        "        file_name=os.path.basename(file)\n",
        "        emotion=emotions[file_name.split(\"-\")[2]]\n",
        "        if emotion not in observed_emotions:\n",
        "            continue\n",
        "        feature=extract_feature(file, mfcc=True, chroma=True, mel=True)\n",
        "        x.append(feature)\n",
        "        y.append(emotion)\n",
        "    return train_test_split(np.array(x), y, test_size=test_size, random_state=9)"
      ],
      "metadata": {
        "id": "E6Rbp7ufyTVz"
      },
      "execution_count": 10,
      "outputs": []
    },
    {
      "cell_type": "code",
      "source": [
        "#DataFlair - Split the dataset\n",
        "x_train,x_test,y_train,y_test=load_data(test_size=0.25)"
      ],
      "metadata": {
        "id": "1FuemtkL1Xn4"
      },
      "execution_count": 12,
      "outputs": []
    },
    {
      "cell_type": "code",
      "source": [
        "#DataFlair - Get the shape of the training and testing datasets\n",
        "print((x_train.shape[0], x_test.shape[0]))"
      ],
      "metadata": {
        "colab": {
          "base_uri": "https://localhost:8080/"
        },
        "id": "kDWwtpg64Bkt",
        "outputId": "93aea64b-8f94-45fd-878f-237e9758d8cf"
      },
      "execution_count": 13,
      "outputs": [
        {
          "output_type": "stream",
          "name": "stdout",
          "text": [
            "(576, 192)\n"
          ]
        }
      ]
    },
    {
      "cell_type": "code",
      "source": [
        "#DataFlair - Get the number of features extracted\n",
        "print(f'Features extracted: {x_train.shape[1]}')"
      ],
      "metadata": {
        "colab": {
          "base_uri": "https://localhost:8080/"
        },
        "id": "X2RWR48O4EBb",
        "outputId": "bae362c0-44e4-418d-b71b-1afe45dc64d1"
      },
      "execution_count": 14,
      "outputs": [
        {
          "output_type": "stream",
          "name": "stdout",
          "text": [
            "Features extracted: 180\n"
          ]
        }
      ]
    },
    {
      "cell_type": "code",
      "source": [
        "# Initialize the Multi Layer Perceptron Classifier\n",
        "model=MLPClassifier(alpha=0.01, batch_size=256, epsilon=1e-08, hidden_layer_sizes=(300,), learning_rate='adaptive', max_iter=500)\n",
        "model.fit(x_train,y_train)\n",
        "y_pred=model.predict(x_test)\n",
        "accuracy=accuracy_score(y_true=y_test, y_pred=y_pred)\n",
        "print(\"Accuracy: {:.2f}%\".format(accuracy*100))\n",
        "cf_matrix = confusion_matrix(y_true=y_test, y_pred=y_pred)\n",
        "print(\"\\n\")\n",
        "print('******  CONFUSION MATRIX  *******')\n",
        "print(cf_matrix)\n",
        "print(\"\\n\")\n",
        "print('******  CLASSIFICATION REPORT  *******')\n",
        "print(classification_report(y_test, y_pred, target_names=observed_emotions))\n",
        "print(\"\\n\")\n",
        "sns.heatmap(cf_matrix, annot=True)\n",
        "filename = '/content/drive/MyDrive/Colab Notebooks/finalized_model_MLP.sav'\n",
        "joblib.dump(model, filename)"
      ],
      "metadata": {
        "id": "2iZmIywS4GA7",
        "colab": {
          "base_uri": "https://localhost:8080/",
          "height": 699
        },
        "outputId": "bda058e2-d243-4b42-9794-9151e6162b68"
      },
      "execution_count": 15,
      "outputs": [
        {
          "output_type": "stream",
          "name": "stdout",
          "text": [
            "Accuracy: 69.79%\n",
            "\n",
            "\n",
            "******  CONFUSION MATRIX  *******\n",
            "[[37  4  3  1]\n",
            " [ 3 30 10  5]\n",
            " [ 2  4 38  1]\n",
            " [ 4  6 15 29]]\n",
            "\n",
            "\n",
            "******  CLASSIFICATION REPORT  *******\n",
            "              precision    recall  f1-score   support\n",
            "\n",
            "        calm       0.80      0.82      0.81        45\n",
            "       happy       0.68      0.62      0.65        48\n",
            "     fearful       0.58      0.84      0.68        45\n",
            "     disgust       0.81      0.54      0.64        54\n",
            "\n",
            "    accuracy                           0.70       192\n",
            "   macro avg       0.72      0.71      0.70       192\n",
            "weighted avg       0.72      0.70      0.70       192\n",
            "\n",
            "\n",
            "\n"
          ]
        },
        {
          "output_type": "execute_result",
          "data": {
            "text/plain": [
              "['/content/drive/MyDrive/Colab Notebooks/finalized_model_MLP.sav']"
            ]
          },
          "metadata": {},
          "execution_count": 15
        },
        {
          "output_type": "display_data",
          "data": {
            "image/png": "[encoded data removed]",
            "text/plain": [
              "<Figure size 432x288 with 2 Axes>"
            ]
          },
          "metadata": {
            "needs_background": "light"
          }
        }
      ]
    },
    {
      "cell_type": "markdown",
      "source": [
        ""
      ],
      "metadata": {
        "id": "75RtECAGYF2g"
      }
    },
    {
      "cell_type": "code",
      "source": [
        "# Initialize the Random Forest Classifier\n",
        "model=RandomForestClassifier(n_estimators=100)\n",
        "model.fit(x_train,y_train)\n",
        "y_pred=model.predict(x_test)\n",
        "accuracy=accuracy_score(y_true=y_test, y_pred=y_pred)\n",
        "print(\"Accuracy: {:.2f}%\".format(accuracy*100))\n",
        "cf_matrix = confusion_matrix(y_true=y_test, y_pred=y_pred)\n",
        "print(\"\\n\")\n",
        "print('******  CONFUSION MATRIX  *******')\n",
        "print(cf_matrix)\n",
        "print(\"\\n\")\n",
        "print('******  CLASSIFICATION REPORT  *******')\n",
        "print(classification_report(y_test, y_pred, target_names=observed_emotions))\n",
        "print(\"\\n\")\n",
        "sns.heatmap(cf_matrix, annot=True)\n",
        "filename = '/content/drive/MyDrive/Colab Notebooks/finalized_model_RF.sav'\n",
        "joblib.dump(model, filename)"
      ],
      "metadata": {
        "colab": {
          "base_uri": "https://localhost:8080/",
          "height": 699
        },
        "id": "zaBFKayUXfXT",
        "outputId": "036ec78a-be36-4293-d40b-eba223852fb6"
      },
      "execution_count": 16,
      "outputs": [
        {
          "output_type": "stream",
          "name": "stdout",
          "text": [
            "Accuracy: 64.06%\n",
            "\n",
            "\n",
            "******  CONFUSION MATRIX  *******\n",
            "[[42  3  0  0]\n",
            " [11 32  0  5]\n",
            " [ 5 11 21  8]\n",
            " [ 4 11 11 28]]\n",
            "\n",
            "\n",
            "******  CLASSIFICATION REPORT  *******\n",
            "              precision    recall  f1-score   support\n",
            "\n",
            "        calm       0.68      0.93      0.79        45\n",
            "       happy       0.56      0.67      0.61        48\n",
            "     fearful       0.66      0.47      0.55        45\n",
            "     disgust       0.68      0.52      0.59        54\n",
            "\n",
            "    accuracy                           0.64       192\n",
            "   macro avg       0.64      0.65      0.63       192\n",
            "weighted avg       0.65      0.64      0.63       192\n",
            "\n",
            "\n",
            "\n"
          ]
        },
        {
          "output_type": "execute_result",
          "data": {
            "text/plain": [
              "['/content/drive/MyDrive/Colab Notebooks/finalized_model_RF.sav']"
            ]
          },
          "metadata": {},
          "execution_count": 16
        },
        {
          "output_type": "display_data",
          "data": {
            "image/png": "[encoded data removed]",
            "text/plain": [
              "<Figure size 432x288 with 2 Axes>"
            ]
          },
          "metadata": {
            "needs_background": "light"
          }
        }
      ]
    },
    {
      "cell_type": "code",
      "source": [
        "# Initialize the LogisticRegression\n",
        "from sklearn.linear_model import LogisticRegression\n",
        "model = LogisticRegression()\n",
        "model.fit(x_train,y_train)\n",
        "y_pred=model.predict(x_test)\n",
        "accuracy=accuracy_score(y_true=y_test, y_pred=y_pred)\n",
        "print(\"Accuracy: {:.2f}%\".format(accuracy*100))\n",
        "cf_matrix = confusion_matrix(y_true=y_test, y_pred=y_pred)\n",
        "print(\"\\n\")\n",
        "print('******  CONFUSION MATRIX  *******')\n",
        "print(cf_matrix)\n",
        "print(\"\\n\")\n",
        "print('******  CLASSIFICATION REPORT  *******')\n",
        "print(classification_report(y_test, y_pred, target_names=observed_emotions))\n",
        "print(\"\\n\")\n",
        "sns.heatmap(cf_matrix, annot=True)\n",
        "filename = '/content/drive/MyDrive/Colab Notebooks/finalized_model_LR.sav'\n",
        "joblib.dump(model, filename)"
      ],
      "metadata": {
        "colab": {
          "base_uri": "https://localhost:8080/",
          "height": 858
        },
        "id": "Ir7ucEG0Y0C5",
        "outputId": "9ad9bb82-d72e-430e-9996-88133ba07c0b"
      },
      "execution_count": null,
      "outputs": [
        {
          "output_type": "stream",
          "name": "stdout",
          "text": [
            "Accuracy: 55.73%\n",
            "\n",
            "\n",
            "******  CONFUSION MATRIX  *******\n",
            "[[31 15  7  0]\n",
            " [10 24  4  6]\n",
            " [ 4  3 26  9]\n",
            " [ 4  8 15 26]]\n",
            "\n",
            "\n",
            "******  CLASSIFICATION REPORT  *******\n",
            "              precision    recall  f1-score   support\n",
            "\n",
            "        calm       0.63      0.58      0.61        53\n",
            "       happy       0.48      0.55      0.51        44\n",
            "     fearful       0.50      0.62      0.55        42\n",
            "     disgust       0.63      0.49      0.55        53\n",
            "\n",
            "    accuracy                           0.56       192\n",
            "   macro avg       0.56      0.56      0.56       192\n",
            "weighted avg       0.57      0.56      0.56       192\n",
            "\n",
            "\n",
            "\n"
          ]
        },
        {
          "output_type": "stream",
          "name": "stderr",
          "text": [
            "/usr/local/lib/python3.7/dist-packages/sklearn/linear_model/_logistic.py:818: ConvergenceWarning: lbfgs failed to converge (status=1):\n",
            "STOP: TOTAL NO. of ITERATIONS REACHED LIMIT.\n",
            "\n",
            "Increase the number of iterations (max_iter) or scale the data as shown in:\n",
            "    https://scikit-learn.org/stable/modules/preprocessing.html\n",
            "Please also refer to the documentation for alternative solver options:\n",
            "    https://scikit-learn.org/stable/modules/linear_model.html#logistic-regression\n",
            "  extra_warning_msg=_LOGISTIC_SOLVER_CONVERGENCE_MSG,\n"
          ]
        },
        {
          "output_type": "execute_result",
          "data": {
            "text/plain": [
              "['/content/drive/MyDrive/Colab Notebooks/finalized_model_LR.sav']"
            ]
          },
          "metadata": {},
          "execution_count": 15
        },
        {
          "output_type": "display_data",
          "data": {
            "image/png": "[encoded data removed]",
            "text/plain": [
              "<Figure size 432x288 with 2 Axes>"
            ]
          },
          "metadata": {
            "needs_background": "light"
          }
        }
      ]
    },
    {
      "cell_type": "code",
      "source": [
        "# load the model from disk\n",
        "filename = '/content/drive/MyDrive/Colab Notebooks/finalized_model_RF.sav'\n",
        "loaded_model = joblib.load(filename)\n",
        "# test_file=files.save(\"/content/drive/MyDrive/Colab Notebooks/test.wav\")\n",
        "\n",
        "test=extract_feature(\"/content/drive/MyDrive/Colab Notebooks/sound_data/data/Actor_02/03-01-01-01-01-02-02.wav\", mfcc=True, chroma=True, mel=True)\n",
        "test = test.reshape(1, -1)\n",
        "print(len(test))\n",
        "y_pred=loaded_model.predict(test)\n",
        "print(y_pred)"
      ],
      "metadata": {
        "id": "WcCl0JrG5UbK",
        "colab": {
          "base_uri": "https://localhost:8080/"
        },
        "outputId": "c2b59cd1-08ba-4e13-b686-87f1834454eb"
      },
      "execution_count": null,
      "outputs": [
        {
          "output_type": "stream",
          "name": "stdout",
          "text": [
            "1\n",
            "['happy']\n"
          ]
        }
      ]
    },
    {
      "cell_type": "markdown",
      "source": [
        "# **Prediction through Microphone**"
      ],
      "metadata": {
        "id": "szLII3a6FrEJ"
      }
    },
    {
      "cell_type": "code",
      "source": [
        "import librosa\n",
        "import soundfile\n",
        "import os, glob, pickle\n",
        "import numpy as np\n",
        "import joblib"
      ],
      "metadata": {
        "id": "d1JZJN26A8Y9"
      },
      "execution_count": null,
      "outputs": []
    },
    {
      "cell_type": "code",
      "source": [
        "def extract_feature(file_name, mfcc, chroma, mel):\n",
        "    with soundfile.SoundFile(file_name) as sound_file:\n",
        "        X = sound_file.read(dtype=\"float32\")\n",
        "  #sample_rate can improve generalization and lead to lower validation and test set errors. \n",
        "        sample_rate=sound_file.samplerate\n",
        "        if chroma:\n",
        "            stft=np.abs(librosa.stft(X))\n",
        "        result=np.array([])\n",
        "    #we will define a function to extract features \n",
        "        if mfcc:\n",
        "            mfccs=np.mean(librosa.feature.mfcc(y=X, sr=sample_rate, n_mfcc=40).T, axis=0)\n",
        "            result=np.hstack((result, mfccs))\n",
        "        if chroma:\n",
        "            chroma=np.mean(librosa.feature.chroma_stft(S=stft, sr=sample_rate).T,axis=0)\n",
        "            result=np.hstack((result, chroma))\n",
        "        if mel:\n",
        "            mel=np.mean(librosa.feature.melspectrogram(X, sr=sample_rate).T,axis=0)\n",
        "            result=np.hstack((result, mel))\n",
        "        return result"
      ],
      "metadata": {
        "id": "DFrHHqV_BB66"
      },
      "execution_count": null,
      "outputs": []
    },
    {
      "cell_type": "code",
      "source": [
        "!pip install ffmpeg-python"
      ],
      "metadata": {
        "colab": {
          "base_uri": "https://localhost:8080/"
        },
        "id": "G6Uv-EIzBKJ5",
        "outputId": "dbe7209c-a63f-400a-dcc1-f1d312ea9d95"
      },
      "execution_count": null,
      "outputs": [
        {
          "output_type": "stream",
          "name": "stdout",
          "text": [
            "Requirement already satisfied: ffmpeg-python in /usr/local/lib/python3.7/dist-packages (0.2.0)\n",
            "Requirement already satisfied: future in /usr/local/lib/python3.7/dist-packages (from ffmpeg-python) (0.16.0)\n"
          ]
        }
      ]
    },
    {
      "cell_type": "code",
      "source": [
        "from IPython.display import HTML, Audio\n",
        "from google.colab.output import eval_js\n",
        "from base64 import b64decode\n",
        "import numpy as np\n",
        "from scipy.io.wavfile import read as wav_read\n",
        "import io\n",
        "import ffmpeg\n",
        "\n",
        "AUDIO_HTML = \"\"\"\n",
        "<script>\n",
        "var my_div = document.createElement(\"DIV\");\n",
        "var my_p = document.createElement(\"P\");\n",
        "var my_btn = document.createElement(\"BUTTON\");\n",
        "var t = document.createTextNode(\"Press to start recording\");\n",
        "\n",
        "my_btn.appendChild(t);\n",
        "//my_p.appendChild(my_btn);\n",
        "my_div.appendChild(my_btn);\n",
        "document.body.appendChild(my_div);\n",
        "\n",
        "var base64data = 0;\n",
        "var reader;\n",
        "var recorder, gumStream;\n",
        "var recordButton = my_btn;\n",
        "\n",
        "var handleSuccess = function(stream) {\n",
        "  gumStream = stream;\n",
        "  var options = {\n",
        "    //bitsPerSecond: 8000, //chrome seems to ignore, always 48k\n",
        "    mimeType : 'audio/webm;codecs=opus'\n",
        "    //mimeType : 'audio/webm;codecs=pcm'\n",
        "  };            \n",
        "  //recorder = new MediaRecorder(stream, options);\n",
        "  recorder = new MediaRecorder(stream);\n",
        "  recorder.ondataavailable = function(e) {            \n",
        "    var url = URL.createObjectURL(e.data);\n",
        "    var preview = document.createElement('audio');\n",
        "    preview.controls = true;\n",
        "    preview.src = url;\n",
        "    document.body.appendChild(preview);\n",
        "\n",
        "    reader = new FileReader();\n",
        "    reader.readAsDataURL(e.data); \n",
        "    reader.onloadend = function() {\n",
        "      base64data = reader.result;\n",
        "      //console.log(\"Inside FileReader:\" + base64data);\n",
        "    }\n",
        "  };\n",
        "  recorder.start();\n",
        "  };\n",
        "\n",
        "recordButton.innerText = \"Recording... press to stop\";\n",
        "\n",
        "navigator.mediaDevices.getUserMedia({audio: true}).then(handleSuccess);\n",
        "\n",
        "\n",
        "function toggleRecording() {\n",
        "  if (recorder && recorder.state == \"recording\") {\n",
        "      recorder.stop();\n",
        "      gumStream.getAudioTracks()[0].stop();\n",
        "      recordButton.innerText = \"Saving the recording... pls wait!\"\n",
        "  }\n",
        "}\n",
        "\n",
        "// https://stackoverflow.com/a/951057\n",
        "function sleep(ms) {\n",
        "  return new Promise(resolve => setTimeout(resolve, ms));\n",
        "}\n",
        "\n",
        "var data = new Promise(resolve=>{\n",
        "//recordButton.addEventListener(\"click\", toggleRecording);\n",
        "recordButton.onclick = ()=>{\n",
        "toggleRecording()\n",
        "\n",
        "sleep(2000).then(() => {\n",
        "  // wait 2000ms for the data to be available...\n",
        "  // ideally this should use something like await...\n",
        "  //console.log(\"Inside data:\" + base64data)\n",
        "  resolve(base64data.toString())\n",
        "\n",
        "});\n",
        "\n",
        "}\n",
        "});\n",
        "      \n",
        "</script>\n",
        "\"\"\"\n",
        "\n",
        "def get_audio():\n",
        "  display(HTML(AUDIO_HTML))\n",
        "  data = eval_js(\"data\")\n",
        "  binary = b64decode(data.split(',')[1])\n",
        "  \n",
        "  process = (ffmpeg\n",
        "    .input('pipe:0')\n",
        "    .output('pipe:1', format='wav')\n",
        "    .run_async(pipe_stdin=True, pipe_stdout=True, pipe_stderr=True, quiet=True, overwrite_output=True)\n",
        "  )\n",
        "  output, err = process.communicate(input=binary)\n",
        "  \n",
        "  riff_chunk_size = len(output) - 8\n",
        "  # Break up the chunk size into four bytes, held in b.\n",
        "  q = riff_chunk_size\n",
        "  b = []\n",
        "  for i in range(4):\n",
        "      q, r = divmod(q, 256)\n",
        "      b.append(r)\n",
        "\n",
        "  # Replace bytes 4:8 in proc.stdout with the actual size of the RIFF chunk.\n",
        "  riff = output[:4] + bytes(b) + output[8:]\n",
        "\n",
        "  sr, audio = wav_read(io.BytesIO(riff))\n",
        "\n",
        "  return audio, sr"
      ],
      "metadata": {
        "id": "hg2HVq6MBbi_"
      },
      "execution_count": null,
      "outputs": []
    },
    {
      "cell_type": "code",
      "source": [
        "audio, sr = get_audio()"
      ],
      "metadata": {
        "id": "mYY-ej9lBhyV",
        "colab": {
          "base_uri": "https://localhost:8080/",
          "height": 98
        },
        "outputId": "066e7060-f58d-4daf-8c58-db9496c32ce4"
      },
      "execution_count": null,
      "outputs": [
        {
          "output_type": "display_data",
          "data": {
            "text/html": [
              "\n",
              "<script>\n",
              "var my_div = document.createElement(\"DIV\");\n",
              "var my_p = document.createElement(\"P\");\n",
              "var my_btn = document.createElement(\"BUTTON\");\n",
              "var t = document.createTextNode(\"Press to start recording\");\n",
              "\n",
              "my_btn.appendChild(t);\n",
              "//my_p.appendChild(my_btn);\n",
              "my_div.appendChild(my_btn);\n",
              "document.body.appendChild(my_div);\n",
              "\n",
              "var base64data = 0;\n",
              "var reader;\n",
              "var recorder, gumStream;\n",
              "var recordButton = my_btn;\n",
              "\n",
              "var handleSuccess = function(stream) {\n",
              "  gumStream = stream;\n",
              "  var options = {\n",
              "    //bitsPerSecond: 8000, //chrome seems to ignore, always 48k\n",
              "    mimeType : 'audio/webm;codecs=opus'\n",
              "    //mimeType : 'audio/webm;codecs=pcm'\n",
              "  };            \n",
              "  //recorder = new MediaRecorder(stream, options);\n",
              "  recorder = new MediaRecorder(stream);\n",
              "  recorder.ondataavailable = function(e) {            \n",
              "    var url = URL.createObjectURL(e.data);\n",
              "    var preview = document.createElement('audio');\n",
              "    preview.controls = true;\n",
              "    preview.src = url;\n",
              "    document.body.appendChild(preview);\n",
              "\n",
              "    reader = new FileReader();\n",
              "    reader.readAsDataURL(e.data); \n",
              "    reader.onloadend = function() {\n",
              "      base64data = reader.result;\n",
              "      //console.log(\"Inside FileReader:\" + base64data);\n",
              "    }\n",
              "  };\n",
              "  recorder.start();\n",
              "  };\n",
              "\n",
              "recordButton.innerText = \"Recording... press to stop\";\n",
              "\n",
              "navigator.mediaDevices.getUserMedia({audio: true}).then(handleSuccess);\n",
              "\n",
              "\n",
              "function toggleRecording() {\n",
              "  if (recorder && recorder.state == \"recording\") {\n",
              "      recorder.stop();\n",
              "      gumStream.getAudioTracks()[0].stop();\n",
              "      recordButton.innerText = \"Saving the recording... pls wait!\"\n",
              "  }\n",
              "}\n",
              "\n",
              "// https://stackoverflow.com/a/951057\n",
              "function sleep(ms) {\n",
              "  return new Promise(resolve => setTimeout(resolve, ms));\n",
              "}\n",
              "\n",
              "var data = new Promise(resolve=>{\n",
              "//recordButton.addEventListener(\"click\", toggleRecording);\n",
              "recordButton.onclick = ()=>{\n",
              "toggleRecording()\n",
              "\n",
              "sleep(2000).then(() => {\n",
              "  // wait 2000ms for the data to be available...\n",
              "  // ideally this should use something like await...\n",
              "  //console.log(\"Inside data:\" + base64data)\n",
              "  resolve(base64data.toString())\n",
              "\n",
              "});\n",
              "\n",
              "}\n",
              "});\n",
              "      \n",
              "</script>\n"
            ],
            "text/plain": [
              "<IPython.core.display.HTML object>"
            ]
          },
          "metadata": {}
        }
      ]
    },
    {
      "cell_type": "code",
      "source": [
        "import matplotlib.pyplot as plt\n",
        "plt.figure(figsize=(20,10))\n",
        "plt.plot(audio)\n",
        "plt.show()"
      ],
      "metadata": {
        "id": "itCgPzOvEe68",
        "colab": {
          "base_uri": "https://localhost:8080/",
          "height": 561
        },
        "outputId": "5d4cdb79-c773-4bc0-c645-e2586432b391"
      },
      "execution_count": null,
      "outputs": [
        {
          "output_type": "display_data",
          "data": {
            "image/png": "[encoded data removed]",
            "text/plain": [
              "<Figure size 1440x720 with 1 Axes>"
            ]
          },
          "metadata": {
            "needs_background": "light"
          }
        }
      ]
    },
    {
      "cell_type": "code",
      "source": [
        "import wave\n",
        "\n",
        "wav = wave.open('myrecords.wav', \"wb\")\n",
        "wav.setparams((1, 2, 48000, 0, 'NONE', 'not compressed'))\n",
        "wav.writeframes(audio)\n",
        "wav.close()"
      ],
      "metadata": {
        "id": "twzWVDqIE6OS"
      },
      "execution_count": null,
      "outputs": []
    },
    {
      "cell_type": "code",
      "source": [
        "import joblib\n",
        "# load the model from disk\n",
        "filename = '/content/finalized_model_MLP.sav'\n",
        "loaded_model= joblib.load(filename)\n",
        "\n",
        "test=extract_feature('/content/myrecords.wav', mfcc=True, chroma=True, mel=True)\n",
        "test = test.reshape(1, -1)\n",
        "print(len(test))\n",
        "y_pred=loaded_model.predict(test)\n",
        "print(y_pred)"
      ],
      "metadata": {
        "id": "GfNMYiArFBlj",
        "colab": {
          "base_uri": "https://localhost:8080/"
        },
        "outputId": "6681133b-9dc7-4131-e80a-4040909852ad"
      },
      "execution_count": null,
      "outputs": [
        {
          "output_type": "stream",
          "name": "stdout",
          "text": [
            "1\n",
            "['calm']\n"
          ]
        }
      ]
    },
    {
      "cell_type": "markdown",
      "source": [
        "**Option upload wave file from pc**"
      ],
      "metadata": {
        "id": "8ogFHx4zd6rk"
      }
    },
    {
      "cell_type": "code",
      "source": [
        "from google.colab import files\n",
        "files.upload() \n",
        "\n"
      ],
      "metadata": {
        "id": "xkT0n9KKHvkj"
      },
      "execution_count": null,
      "outputs": []
    },
    {
      "cell_type": "code",
      "source": [
        "import matplotlib.pyplot as plt\n",
        "plt.figure(figsize=(20,10))\n",
        "plt.plot(audio)\n",
        "plt.show()"
      ],
      "metadata": {
        "colab": {
          "base_uri": "https://localhost:8080/",
          "height": 235
        },
        "id": "i270KpcRdexT",
        "outputId": "c4888552-32ee-4da0-b618-4c96bb02f9dc"
      },
      "execution_count": 18,
      "outputs": [
        {
          "output_type": "error",
          "ename": "NameError",
          "evalue": "ignored",
          "traceback": [
            "\u001b[0;31m---------------------------------------------------------------------------\u001b[0m",
            "\u001b[0;31mNameError\u001b[0m                                 Traceback (most recent call last)",
            "\u001b[0;32m<ipython-input-18-509ec69b7f69>\u001b[0m in \u001b[0;36m<module>\u001b[0;34m()\u001b[0m\n\u001b[1;32m      1\u001b[0m \u001b[0;32mimport\u001b[0m \u001b[0mmatplotlib\u001b[0m\u001b[0;34m.\u001b[0m\u001b[0mpyplot\u001b[0m \u001b[0;32mas\u001b[0m \u001b[0mplt\u001b[0m\u001b[0;34m\u001b[0m\u001b[0;34m\u001b[0m\u001b[0m\n\u001b[1;32m      2\u001b[0m \u001b[0mplt\u001b[0m\u001b[0;34m.\u001b[0m\u001b[0mfigure\u001b[0m\u001b[0;34m(\u001b[0m\u001b[0mfigsize\u001b[0m\u001b[0;34m=\u001b[0m\u001b[0;34m(\u001b[0m\u001b[0;36m20\u001b[0m\u001b[0;34m,\u001b[0m\u001b[0;36m10\u001b[0m\u001b[0;34m)\u001b[0m\u001b[0;34m)\u001b[0m\u001b[0;34m\u001b[0m\u001b[0;34m\u001b[0m\u001b[0m\n\u001b[0;32m----> 3\u001b[0;31m \u001b[0mplt\u001b[0m\u001b[0;34m.\u001b[0m\u001b[0mplot\u001b[0m\u001b[0;34m(\u001b[0m\u001b[0maudio\u001b[0m\u001b[0;34m)\u001b[0m\u001b[0;34m\u001b[0m\u001b[0;34m\u001b[0m\u001b[0m\n\u001b[0m\u001b[1;32m      4\u001b[0m \u001b[0mplt\u001b[0m\u001b[0;34m.\u001b[0m\u001b[0mshow\u001b[0m\u001b[0;34m(\u001b[0m\u001b[0;34m)\u001b[0m\u001b[0;34m\u001b[0m\u001b[0;34m\u001b[0m\u001b[0m\n",
            "\u001b[0;31mNameError\u001b[0m: name 'audio' is not defined"
          ]
        },
        {
          "output_type": "display_data",
          "data": {
            "text/plain": [
              "<Figure size 1440x720 with 0 Axes>"
            ]
          },
          "metadata": {}
        }
      ]
    },
    {
      "cell_type": "code",
      "source": [
        "import wave\n",
        "\n",
        "wav = wave.open('myaudio.wav', \"wb\")\n",
        "wav.setparams((1, 2, 48000, 0, 'NONE', 'not compressed'))\n",
        "wav.writeframes(audio)\n",
        "wav.close()"
      ],
      "metadata": {
        "id": "4MUjSRBGdoqb",
        "colab": {
          "base_uri": "https://localhost:8080/",
          "height": 218
        },
        "outputId": "cd94ddf3-df39-4a89-9087-e431b76b5bc7"
      },
      "execution_count": 19,
      "outputs": [
        {
          "output_type": "error",
          "ename": "NameError",
          "evalue": "ignored",
          "traceback": [
            "\u001b[0;31m---------------------------------------------------------------------------\u001b[0m",
            "\u001b[0;31mNameError\u001b[0m                                 Traceback (most recent call last)",
            "\u001b[0;32m<ipython-input-19-bec9fbc7d626>\u001b[0m in \u001b[0;36m<module>\u001b[0;34m()\u001b[0m\n\u001b[1;32m      3\u001b[0m \u001b[0mwav\u001b[0m \u001b[0;34m=\u001b[0m \u001b[0mwave\u001b[0m\u001b[0;34m.\u001b[0m\u001b[0mopen\u001b[0m\u001b[0;34m(\u001b[0m\u001b[0;34m'myaudio.wav'\u001b[0m\u001b[0;34m,\u001b[0m \u001b[0;34m\"wb\"\u001b[0m\u001b[0;34m)\u001b[0m\u001b[0;34m\u001b[0m\u001b[0;34m\u001b[0m\u001b[0m\n\u001b[1;32m      4\u001b[0m \u001b[0mwav\u001b[0m\u001b[0;34m.\u001b[0m\u001b[0msetparams\u001b[0m\u001b[0;34m(\u001b[0m\u001b[0;34m(\u001b[0m\u001b[0;36m1\u001b[0m\u001b[0;34m,\u001b[0m \u001b[0;36m2\u001b[0m\u001b[0;34m,\u001b[0m \u001b[0;36m48000\u001b[0m\u001b[0;34m,\u001b[0m \u001b[0;36m0\u001b[0m\u001b[0;34m,\u001b[0m \u001b[0;34m'NONE'\u001b[0m\u001b[0;34m,\u001b[0m \u001b[0;34m'not compressed'\u001b[0m\u001b[0;34m)\u001b[0m\u001b[0;34m)\u001b[0m\u001b[0;34m\u001b[0m\u001b[0;34m\u001b[0m\u001b[0m\n\u001b[0;32m----> 5\u001b[0;31m \u001b[0mwav\u001b[0m\u001b[0;34m.\u001b[0m\u001b[0mwriteframes\u001b[0m\u001b[0;34m(\u001b[0m\u001b[0maudio\u001b[0m\u001b[0;34m)\u001b[0m\u001b[0;34m\u001b[0m\u001b[0;34m\u001b[0m\u001b[0m\n\u001b[0m\u001b[1;32m      6\u001b[0m \u001b[0mwav\u001b[0m\u001b[0;34m.\u001b[0m\u001b[0mclose\u001b[0m\u001b[0;34m(\u001b[0m\u001b[0;34m)\u001b[0m\u001b[0;34m\u001b[0m\u001b[0;34m\u001b[0m\u001b[0m\n",
            "\u001b[0;31mNameError\u001b[0m: name 'audio' is not defined"
          ]
        }
      ]
    },
    {
      "cell_type": "code",
      "source": [
        "import joblib\n",
        "# load the model from disk\n",
        "filename = '/content/finalized_model_MLP.sav'\n",
        "loaded_model= joblib.load(filename)\n",
        "\n",
        "9test=extract_feature('/content/myaudio.wav', mfcc=True, chroma=True, mel=True)\n",
        "test = test.reshape(1, -1)\n",
        "print(len(test))\n",
        "y_pred=loaded_model.predict(test)\n",
        "print(y_pred)"
      ],
      "metadata": {
        "colab": {
          "base_uri": "https://localhost:8080/"
        },
        "id": "T7XW3qtpd2gz",
        "outputId": "26b1c7eb-9824-4368-dec5-2af1957c7d97"
      },
      "execution_count": null,
      "outputs": [
        {
          "output_type": "stream",
          "name": "stdout",
          "text": [
            "1\n",
            "['calm']\n"
          ]
        }
      ]
    },
    {
      "cell_type": "code",
      "source": [
        "! pip install pyngrok"
      ],
      "metadata": {
        "id": "QaFF8yzIGscD",
        "outputId": "4cb390c1-1008-43c9-ed80-39cb8862a12e",
        "colab": {
          "base_uri": "https://localhost:8080/"
        }
      },
      "execution_count": 24,
      "outputs": [
        {
          "output_type": "stream",
          "name": "stdout",
          "text": [
            "Collecting pyngrok\n",
            "  Downloading pyngrok-5.1.0.tar.gz (745 kB)\n",
            "\u001b[?25l\r\u001b[K     |▍                               | 10 kB 22.0 MB/s eta 0:00:01\r\u001b[K     |▉                               | 20 kB 28.8 MB/s eta 0:00:01\r\u001b[K     |█▎                              | 30 kB 21.6 MB/s eta 0:00:01\r\u001b[K     |█▊                              | 40 kB 17.1 MB/s eta 0:00:01\r\u001b[K     |██▏                             | 51 kB 8.8 MB/s eta 0:00:01\r\u001b[K     |██▋                             | 61 kB 9.3 MB/s eta 0:00:01\r\u001b[K     |███                             | 71 kB 8.9 MB/s eta 0:00:01\r\u001b[K     |███▌                            | 81 kB 9.9 MB/s eta 0:00:01\r\u001b[K     |████                            | 92 kB 10.2 MB/s eta 0:00:01\r\u001b[K     |████▍                           | 102 kB 8.2 MB/s eta 0:00:01\r\u001b[K     |████▉                           | 112 kB 8.2 MB/s eta 0:00:01\r\u001b[K     |█████▎                          | 122 kB 8.2 MB/s eta 0:00:01\r\u001b[K     |█████▊                          | 133 kB 8.2 MB/s eta 0:00:01\r\u001b[K     |██████▏                         | 143 kB 8.2 MB/s eta 0:00:01\r\u001b[K     |██████▋                         | 153 kB 8.2 MB/s eta 0:00:01\r\u001b[K     |███████                         | 163 kB 8.2 MB/s eta 0:00:01\r\u001b[K     |███████▌                        | 174 kB 8.2 MB/s eta 0:00:01\r\u001b[K     |████████                        | 184 kB 8.2 MB/s eta 0:00:01\r\u001b[K     |████████▍                       | 194 kB 8.2 MB/s eta 0:00:01\r\u001b[K     |████████▉                       | 204 kB 8.2 MB/s eta 0:00:01\r\u001b[K     |█████████▎                      | 215 kB 8.2 MB/s eta 0:00:01\r\u001b[K     |█████████▊                      | 225 kB 8.2 MB/s eta 0:00:01\r\u001b[K     |██████████▏                     | 235 kB 8.2 MB/s eta 0:00:01\r\u001b[K     |██████████▌                     | 245 kB 8.2 MB/s eta 0:00:01\r\u001b[K     |███████████                     | 256 kB 8.2 MB/s eta 0:00:01\r\u001b[K     |███████████▍                    | 266 kB 8.2 MB/s eta 0:00:01\r\u001b[K     |███████████▉                    | 276 kB 8.2 MB/s eta 0:00:01\r\u001b[K     |████████████▎                   | 286 kB 8.2 MB/s eta 0:00:01\r\u001b[K     |████████████▊                   | 296 kB 8.2 MB/s eta 0:00:01\r\u001b[K     |█████████████▏                  | 307 kB 8.2 MB/s eta 0:00:01\r\u001b[K     |█████████████▋                  | 317 kB 8.2 MB/s eta 0:00:01\r\u001b[K     |██████████████                  | 327 kB 8.2 MB/s eta 0:00:01\r\u001b[K     |██████████████▌                 | 337 kB 8.2 MB/s eta 0:00:01\r\u001b[K     |███████████████                 | 348 kB 8.2 MB/s eta 0:00:01\r\u001b[K     |███████████████▍                | 358 kB 8.2 MB/s eta 0:00:01\r\u001b[K     |███████████████▉                | 368 kB 8.2 MB/s eta 0:00:01\r\u001b[K     |████████████████▎               | 378 kB 8.2 MB/s eta 0:00:01\r\u001b[K     |████████████████▊               | 389 kB 8.2 MB/s eta 0:00:01\r\u001b[K     |█████████████████▏              | 399 kB 8.2 MB/s eta 0:00:01\r\u001b[K     |█████████████████▋              | 409 kB 8.2 MB/s eta 0:00:01\r\u001b[K     |██████████████████              | 419 kB 8.2 MB/s eta 0:00:01\r\u001b[K     |██████████████████▌             | 430 kB 8.2 MB/s eta 0:00:01\r\u001b[K     |███████████████████             | 440 kB 8.2 MB/s eta 0:00:01\r\u001b[K     |███████████████████▍            | 450 kB 8.2 MB/s eta 0:00:01\r\u001b[K     |███████████████████▉            | 460 kB 8.2 MB/s eta 0:00:01\r\u001b[K     |████████████████████▎           | 471 kB 8.2 MB/s eta 0:00:01\r\u001b[K     |████████████████████▋           | 481 kB 8.2 MB/s eta 0:00:01\r\u001b[K     |█████████████████████           | 491 kB 8.2 MB/s eta 0:00:01\r\u001b[K     |█████████████████████▌          | 501 kB 8.2 MB/s eta 0:00:01\r\u001b[K     |██████████████████████          | 512 kB 8.2 MB/s eta 0:00:01\r\u001b[K     |██████████████████████▍         | 522 kB 8.2 MB/s eta 0:00:01\r\u001b[K     |██████████████████████▉         | 532 kB 8.2 MB/s eta 0:00:01\r\u001b[K     |███████████████████████▎        | 542 kB 8.2 MB/s eta 0:00:01\r\u001b[K     |███████████████████████▊        | 552 kB 8.2 MB/s eta 0:00:01\r\u001b[K     |████████████████████████▏       | 563 kB 8.2 MB/s eta 0:00:01\r\u001b[K     |████████████████████████▋       | 573 kB 8.2 MB/s eta 0:00:01\r\u001b[K     |█████████████████████████       | 583 kB 8.2 MB/s eta 0:00:01\r\u001b[K     |█████████████████████████▌      | 593 kB 8.2 MB/s eta 0:00:01\r\u001b[K     |██████████████████████████      | 604 kB 8.2 MB/s eta 0:00:01\r\u001b[K     |██████████████████████████▍     | 614 kB 8.2 MB/s eta 0:00:01\r\u001b[K     |██████████████████████████▉     | 624 kB 8.2 MB/s eta 0:00:01\r\u001b[K     |███████████████████████████▎    | 634 kB 8.2 MB/s eta 0:00:01\r\u001b[K     |███████████████████████████▊    | 645 kB 8.2 MB/s eta 0:00:01\r\u001b[K     |████████████████████████████▏   | 655 kB 8.2 MB/s eta 0:00:01\r\u001b[K     |████████████████████████████▋   | 665 kB 8.2 MB/s eta 0:00:01\r\u001b[K     |█████████████████████████████   | 675 kB 8.2 MB/s eta 0:00:01\r\u001b[K     |█████████████████████████████▌  | 686 kB 8.2 MB/s eta 0:00:01\r\u001b[K     |██████████████████████████████  | 696 kB 8.2 MB/s eta 0:00:01\r\u001b[K     |██████████████████████████████▍ | 706 kB 8.2 MB/s eta 0:00:01\r\u001b[K     |██████████████████████████████▊ | 716 kB 8.2 MB/s eta 0:00:01\r\u001b[K     |███████████████████████████████▏| 727 kB 8.2 MB/s eta 0:00:01\r\u001b[K     |███████████████████████████████▋| 737 kB 8.2 MB/s eta 0:00:01\r\u001b[K     |████████████████████████████████| 745 kB 8.2 MB/s \n",
            "\u001b[?25hRequirement already satisfied: PyYAML in /usr/local/lib/python3.7/dist-packages (from pyngrok) (3.13)\n",
            "Building wheels for collected packages: pyngrok\n",
            "  Building wheel for pyngrok (setup.py) ... \u001b[?25l\u001b[?25hdone\n",
            "  Created wheel for pyngrok: filename=pyngrok-5.1.0-py3-none-any.whl size=19006 sha256=09d3b0a7fd8b470b898e99720a87bbb3269a0b159e7871e2223311718aded9cb\n",
            "  Stored in directory: /root/.cache/pip/wheels/bf/e6/af/ccf6598ecefecd44104069371795cb9b3afbcd16987f6ccfb3\n",
            "Successfully built pyngrok\n",
            "Installing collected packages: pyngrok\n",
            "Successfully installed pyngrok-5.1.0\n",
            "Requirement already satisfied: pyngrok in /usr/local/lib/python3.7/dist-packages (5.1.0)\n",
            "Requirement already satisfied: PyYAML in /usr/local/lib/python3.7/dist-packages (from pyngrok) (3.13)\n"
          ]
        }
      ]
    },
    {
      "cell_type": "code",
      "source": [
        "! ngrok authtoken xxxxxx"
      ],
      "metadata": {
        "id": "Ti3nSZhqHJnI",
        "outputId": "91066fb6-c320-4382-be2e-fc654fb75d2d",
        "colab": {
          "base_uri": "https://localhost:8080/"
        }
      },
      "execution_count": 25,
      "outputs": [
        {
          "output_type": "stream",
          "name": "stdout",
          "text": [
            "Authtoken saved to configuration file: /root/.ngrok2/ngrok.yml\n"
          ]
        }
      ]
    },
    {
      "cell_type": "markdown",
      "source": [
        ""
      ],
      "metadata": {
        "id": "v--Ua7AVE5vx"
      }
    },
    {
      "cell_type": "markdown",
      "source": [
        ""
      ],
      "metadata": {
        "id": "a-RxI09FWz4U"
      }
    }
  ]
}